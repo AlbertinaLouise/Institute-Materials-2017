{
 "cells": [
  {
   "cell_type": "code",
   "execution_count": 1,
   "metadata": {
    "collapsed": true
   },
   "outputs": [],
   "source": [
    "# Wrangling XML in Python with etree"
   ]
  },
  {
   "cell_type": "code",
   "execution_count": 3,
   "metadata": {
    "collapsed": false
   },
   "outputs": [
    {
     "name": "stdout",
     "output_type": "stream",
     "text": [
      "<?xml-model href=\"http://www.tei-c.org/release/xml/tei/custom/schema/relaxng/tei_all.rng\" type=\"application/xml\" schematypens=\"http://relaxng.org/ns/structure/1.0\"?><?xml-model href=\"http://www.tei-c.org/release/xml/tei/custom/schema/relaxng/tei_all.rng\" type=\"application/xml\"\n",
      "\tschematypens=\"http://purl.oclc.org/dsdl/schematron\"?><TEI xmlns=\"http://www.tei-c.org/ns/1.0\">\n",
      "   <teiHeader>\n",
      "      <fileDesc>\n",
      "         <titleStmt>\n",
      "            <title>Ozymandias</title>\n",
      "         </titleStmt>\n",
      "         <publicationStmt>\n",
      "            <p>Part of <ptr target=\"https://github.com/Pittsburgh-NEH-Institute/Institute-Materials-2017\"/></p>\n",
      "         </publicationStmt>\n",
      "         <sourceDesc>\n",
      "            <p><ptr target=\"https://www.poetryfoundation.org/resources/learning/core-poems/detail/46565\"/></p>\n",
      "         </sourceDesc>\n",
      "      </fileDesc>\n",
      "   </teiHeader>\n",
      "   <text>\n",
      "      <body>\n",
      "         <head>\n",
      "            <persName>Percy Bysshe Shelley</persName>\n",
      "            <title>Ozymandias</title>\n",
      "         </head>\n",
      "         <div type=\"poem\">\n",
      "            <p>\n",
      "               <lb/><phr>I met a traveller from an antique land,</phr>\n",
      "               <lb/><phr>Who said &#8212;</phr><phr>&#8220;Two vast and trunkless legs of stone\n",
      "               <lb/>Stand in the desart.... </phr><phr>Near them,</phr> <phr>on the sand,</phr>\n",
      "               <lb/><phr>Half sunk a shattered visage lies,</phr> <phr>whose frown,</phr>\n",
      "               <lb/><phr>And wrinkled lip,</phr> <phr>and sneer of cold command,</phr>\n",
      "               <lb/><phr>Tell that its sculptor well those passions read\n",
      "               <lb/>Which yet survive,</phr> <phr>stamped on these lifeless things,</phr>\n",
      "               <lb/><phr>The hand that mocked them,</phr> <phr>and the heart that fed;</phr>\n",
      "               <lb/><phr>And on the pedestal,</phr> <phr>these words appear:</phr>\n",
      "               <lb/><phr>My name is Ozymandias,</phr> <phr>King of Kings,</phr>\n",
      "               <lb/><phr>Look on my Works,</phr> <phr>ye Mighty,</phr> <phr>and despair!</phr>\n",
      "               <lb/><phr>Nothing beside remains.</phr> <phr>Round the decay\n",
      "               <lb/>Of that colossal Wreck,</phr> <phr>boundless and bare\n",
      "               <lb/>The lone and level sands stretch far away.&#8221;</phr>\n",
      "            </p>\n",
      "         </div>\n",
      "      </body>\n",
      "   </text>\n",
      "</TEI>\n"
     ]
    }
   ],
   "source": [
    "from lxml import etree\n",
    "\n",
    "def tei(tag):\n",
    "    return \"{http://www.tei-c.org/ns/1.0}%s\" % tag\n",
    "\n",
    "\n",
    "with open('ozymandias.xml', encoding='utf-8') as f:\n",
    "    ozzy = etree.parse(f)\n",
    "    \n",
    "    \n",
    "print(etree.tostring(ozzy).decode('utf-8'))\n",
    "\n",
    "\n"
   ]
  },
  {
   "cell_type": "code",
   "execution_count": null,
   "metadata": {
    "collapsed": true
   },
   "outputs": [],
   "source": []
  }
 ],
 "metadata": {
  "kernelspec": {
   "display_name": "Python 3",
   "language": "python",
   "name": "python3"
  },
  "language_info": {
   "codemirror_mode": {
    "name": "ipython",
    "version": 3
   },
   "file_extension": ".py",
   "mimetype": "text/x-python",
   "name": "python",
   "nbconvert_exporter": "python",
   "pygments_lexer": "ipython3",
   "version": "3.6.0"
  }
 },
 "nbformat": 4,
 "nbformat_minor": 2
}
