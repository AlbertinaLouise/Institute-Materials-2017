{
 "cells": [
  {
   "cell_type": "markdown",
   "metadata": {},
   "source": [
    "# Collating around XML\n",
    "\n",
    "Markup can distort the collation output if we don’t deal with it:"
   ]
  },
  {
   "cell_type": "code",
   "execution_count": 2,
   "metadata": {
    "collapsed": false
   },
   "outputs": [
    {
     "name": "stdout",
     "output_type": "stream",
     "text": [
      "+---+---+------+---+-------+----+------+---+-----+---+------+---+------+----+------+---+\n",
      "| A | < | name | > | Peter | </ | name | > | and | < | name | > | Paul | </ | name | > |\n",
      "| B | < | name | > | Ringo | </ | name | > | and | - | -    | - | Paul | -  | -    | - |\n",
      "+---+---+------+---+-------+----+------+---+-----+---+------+---+------+----+------+---+\n"
     ]
    }
   ],
   "source": [
    "from collatex import *\n",
    "collation = Collation()\n",
    "collation.add_plain_witness('A', '<name>Peter</name> and <name>Paul</name>')\n",
    "collation.add_plain_witness('B', '<name>Ringo</name> and Paul')\n",
    "alignment_table = collate(collation, segmentation=False)\n",
    "print(alignment_table)"
   ]
  },
  {
   "cell_type": "code",
   "execution_count": 3,
   "metadata": {
    "collapsed": false
   },
   "outputs": [
    {
     "name": "stdout",
     "output_type": "stream",
     "text": [
      "[]\n",
      "[('era', 'modern')]\n",
      "['<root>', '<beatle>', 'Paul', '</beatle>', ' is the walrus', '</root>']\n"
     ]
    }
   ],
   "source": [
    "from xml.dom import pulldom\n",
    "collation = Collation()\n",
    "\n",
    "def extract(input_xml):\n",
    "    doc = pulldom.parseString(input_xml)\n",
    "    results = []\n",
    "    for event, node in doc:\n",
    "        if event == pulldom.START_ELEMENT:\n",
    "            results.append('<' + node.localName + '>')\n",
    "            print([item for item in node.attributes.items()])\n",
    "        elif event == pulldom.END_ELEMENT:\n",
    "            results.append('</' + node.localName + '>')\n",
    "        elif event == pulldom.CHARACTERS:\n",
    "            results.append(node.toxml())\n",
    "    return results\n",
    "\n",
    "\n",
    "A = \"<root><beatle era='modern'>Paul</beatle> is the walrus</root>\"\n",
    "B = \"<root><evangelist era='biblical'>Paul</evangelist> is not the walrus</root>\"\n",
    "\n",
    "print(extract(A))"
   ]
  },
  {
   "cell_type": "code",
   "execution_count": null,
   "metadata": {
    "collapsed": true
   },
   "outputs": [],
   "source": []
  },
  {
   "cell_type": "code",
   "execution_count": null,
   "metadata": {
    "collapsed": true
   },
   "outputs": [],
   "source": []
  }
 ],
 "metadata": {
  "kernelspec": {
   "display_name": "Python 3",
   "language": "python",
   "name": "python3"
  },
  "language_info": {
   "codemirror_mode": {
    "name": "ipython",
    "version": 3
   },
   "file_extension": ".py",
   "mimetype": "text/x-python",
   "name": "python",
   "nbconvert_exporter": "python",
   "pygments_lexer": "ipython3",
   "version": "3.6.0"
  }
 },
 "nbformat": 4,
 "nbformat_minor": 2
}
